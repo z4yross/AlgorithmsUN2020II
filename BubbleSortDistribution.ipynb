{
  "nbformat": 4,
  "nbformat_minor": 0,
  "metadata": {
    "colab": {
      "name": "BubbleSortDistribution.ipynb",
      "provenance": []
    },
    "kernelspec": {
      "name": "python3",
      "display_name": "Python 3"
    }
  },
  "cells": [
    {
      "cell_type": "code",
      "metadata": {
        "colab": {
          "base_uri": "https://localhost:8080/",
          "height": 281
        },
        "id": "wPTHITtkEpNn",
        "outputId": "64f3f24f-d76b-4a48-8955-ed1d87e38eeb"
      },
      "source": [
        "import random \r\n",
        "from matplotlib import pyplot as plt, animation, rc\r\n",
        "rc('animation', html='jshtml')\r\n",
        "\r\n",
        "def swap(A, i, j): \r\n",
        "    A[i], A[j] = A[j], A[i] \r\n",
        "  \r\n",
        "def bubblesort(A): \r\n",
        "    swapped = True\r\n",
        "      \r\n",
        "    for i in range(len(A) - 1): \r\n",
        "        if not swapped: \r\n",
        "            return\r\n",
        "        swapped = False\r\n",
        "          \r\n",
        "        for j in range(len(A) - 1 - i): \r\n",
        "            if A[j] > A[j + 1]: \r\n",
        "                swap(A, j, j + 1) \r\n",
        "                swapped = True\r\n",
        "            yield A \r\n",
        "\r\n",
        "def visualize(): \r\n",
        "    N = 30\r\n",
        "    A = list(range(1, N + 1)) \r\n",
        "    random.shuffle(A) \r\n",
        "\r\n",
        "    generator = bubblesort(A) \r\n",
        "\r\n",
        "    fig, ax = plt.subplots() \r\n",
        "    ax.set_title(\"Bubble Sort O(n\\N{SUPERSCRIPT TWO})\") \r\n",
        "    bar_sub = ax.bar(range(len(A)), A, align=\"edge\") \r\n",
        "      \r\n",
        "\r\n",
        "    ax.set_xlim(0, N) \r\n",
        "    text = ax.text(0.02, 0.95, \"\", transform=ax.transAxes) \r\n",
        "    iteration = [0] \r\n",
        "      \r\n",
        "\r\n",
        "    def update(A, rects, iteration): \r\n",
        "        for rect, val in zip(rects, A): \r\n",
        "            rect.set_height(val) \r\n",
        "        iteration[0] += 1\r\n",
        "        text.set_text(f\"# of operations: {iteration[0]}\") \r\n",
        "  \r\n",
        "\r\n",
        "    anim = animation.FuncAnimation( \r\n",
        "        fig, \r\n",
        "        func=update, \r\n",
        "        fargs=(bar_sub, iteration), \r\n",
        "        frames=generator, \r\n",
        "        repeat=True, \r\n",
        "        blit=False, \r\n",
        "        interval=15, \r\n",
        "        save_count=N**2, \r\n",
        "    ) \r\n",
        "      \r\n",
        "    return anim\r\n",
        "  \r\n",
        "\r\n",
        "anim = visualize()"
      ],
      "execution_count": 1,
      "outputs": [
        {
          "output_type": "display_data",
          "data": {
            "image/png": "[encoded data removed]",
            "text/plain": [
              "<Figure size 432x288 with 1 Axes>"
            ]
          },
          "metadata": {
            "tags": [],
            "needs_background": "light"
          }
        }
      ]
    },
    {
      "cell_type": "code",
      "metadata": {
        "id": "o447BmF7Pw-3"
      },
      "source": [
        "anim"
      ],
      "execution_count": null,
      "outputs": []
    }
  ]
}