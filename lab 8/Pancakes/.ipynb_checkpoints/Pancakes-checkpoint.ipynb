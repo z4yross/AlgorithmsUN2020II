{
 "cells": [
  {
   "cell_type": "code",
   "execution_count": 1,
   "metadata": {
    "colab": {
     "base_uri": "https://localhost:8080/"
    },
    "id": "iyb2rHv9QDn2",
    "outputId": "d555ee43-35a1-4052-be99-e77b32842483"
   },
   "outputs": [
    {
     "name": "stdout",
     "output_type": "stream",
     "text": [
      "Drive already mounted at /content/drive; to attempt to forcibly remount, call drive.mount(\"/content/drive\", force_remount=True).\n",
      "past\n"
     ]
    }
   ],
   "source": [
    "from google.colab import drive\n",
    "drive.mount('/content/drive')\n",
    "\n",
    "\n",
    "!ls drive/MyDrive/algPankakes/"
   ]
  },
  {
   "cell_type": "code",
   "execution_count": 2,
   "metadata": {
    "id": "5Abu9I3EVzaj"
   },
   "outputs": [],
   "source": [
    "import pydot\n",
    "from collections import defaultdict \n",
    "# from IPython.display import Image\n",
    "import numpy as np\n",
    "from PIL import Image"
   ]
  },
  {
   "cell_type": "code",
   "execution_count": 3,
   "metadata": {
    "id": "BQ31OrATSb2Z"
   },
   "outputs": [],
   "source": [
    "def lstr(p):\n",
    "        return ''.join([str(elem)  for elem in p])\n",
    "\n",
    "def ModifiedBFSPreSols(s, n): \n",
    "\n",
    "        # Create dictionaries graph,visited and pydot graph G\n",
    "        graph = defaultdict()\n",
    "        visited = defaultdict()\n",
    "        G = pydot.Dot(graph_type=\"digraph\")\n",
    "        \n",
    "        # Create a queue for BFS \n",
    "        queue = [] \n",
    "  \n",
    "        # Mark the source node as visited and enqueue it \n",
    "        queue.append(s) \n",
    "        visited[lstr(s)] = True\n",
    "  \n",
    "        while queue: \n",
    "  \n",
    "            # Dequeue a vertex from queue \n",
    "            s = queue.pop(0) \n",
    "            graph[lstr(s)]=[]\n",
    "\n",
    "            flag = False\n",
    "            for i in range(len(s)-1):\n",
    "                d = s[i+1::-1] + s[i+2:]\n",
    "                if(d == sorted(d)):\n",
    "                     flag = True\n",
    "            if flag:\n",
    "              node = pydot.Node(lstr(s),style=\"filled\", fillcolor=\"yellow\")\n",
    "            else: \n",
    "              node = pydot.Node(lstr(s))\n",
    "\n",
    "            G.add_node(node)\n",
    "            \n",
    "            # Get all adjacent vertices of the \n",
    "            # dequeued vertex s. If a adjacent \n",
    "            # has not been visited, then mark it \n",
    "            # visited and enqueue it \n",
    "\n",
    "            for i in range(len(s)-1):\n",
    "              d = s[i+1::-1] + s[i+2:]  \n",
    "              if (d != s) and not(lstr(d) in visited.keys()):\n",
    "                \n",
    "                if(d != sorted(d)):\n",
    "                    node = pydot.Node(lstr(d))\n",
    "                else:\n",
    "                  node = pydot.Node(lstr(d),style=\"filled\", fillcolor=\"green\") # first sorted green\n",
    "                \n",
    "                G.add_node(node)\n",
    "                edge = pydot.Edge(lstr(s),lstr(d))\n",
    "                G.add_edge(edge)\n",
    "                graph[lstr(s)].append(lstr(d))\n",
    "                queue.append(d) \n",
    "                visited[lstr(d)] = True \n",
    "              \n",
    "\n",
    "        G.write_png(\"drive/MyDrive/algPankakes/\" + str(n) + \".png\")"
   ]
  },
  {
   "cell_type": "code",
   "execution_count": null,
   "metadata": {
    "colab": {
     "base_uri": "https://localhost:8080/"
    },
    "id": "3WOQT8fxSejW",
    "outputId": "974f5f0a-aab1-40ae-8fff-74040e6a484f"
   },
   "outputs": [
    {
     "name": "stdout",
     "output_type": "stream",
     "text": [
      "5\n",
      "6\n",
      "7\n",
      "8\n"
     ]
    }
   ],
   "source": [
    "n = 5\n",
    "while True:\n",
    "  p = list(np.arange(1, n + 1))\n",
    "  ModifiedBFSPreSols(p, n)\n",
    "  print(n)\n",
    "  n += 1"
   ]
  },
  {
   "cell_type": "markdown",
   "metadata": {},
   "source": [
    "##### Se ejecuto hasta 8 "
   ]
  },
  {
   "cell_type": "code",
   "execution_count": 1,
   "metadata": {
    "id": "i_wcXnUyDWMF"
   },
   "outputs": [],
   "source": [
    "import pydot\n",
    "from collections import defaultdict \n",
    "from IPython.display import Image\n",
    "import numpy as np\n",
    "# from PIL import Image"
   ]
  },
  {
   "cell_type": "code",
   "execution_count": 5,
   "metadata": {
    "id": "CsExttoKCdKe"
   },
   "outputs": [],
   "source": [
    "def lstr(p):\n",
    "        return ''.join([str(elem)  for elem in p])\n",
    "\n",
    "def ModifiedBFSPreSols_2(s): \n",
    "\n",
    "        graph = defaultdict()\n",
    "        visited = defaultdict()\n",
    "        G = pydot.Dot(graph_type=\"digraph\")\n",
    "        \n",
    "        queue = [] \n",
    "\n",
    "        queue.append(s) \n",
    "        visited[lstr(s)] = True\n",
    "  \n",
    "        while queue: \n",
    "            s = queue.pop(0) \n",
    "\n",
    "            graph[lstr(s)]=[]\n",
    "            \n",
    "            for i in range(len(s)):\n",
    "              for j in range(len(s)):\n",
    "\n",
    "                if i <= j:\n",
    "                  d =  s[:i] + s[i:j+1][::-1] + s[j+1:] \n",
    "\n",
    "                if j < i:\n",
    "                  d =  s[:j] + s[j:i+1][::-1] + s[i+1:] \n",
    "\n",
    "                if (d != s) and not(lstr(d) in visited.keys()):\n",
    "                  \n",
    "                  if(d != sorted(d)):\n",
    "                    node = pydot.Node(lstr(d))\n",
    "                  else:\n",
    "                    node = pydot.Node(lstr(d),style=\"filled\", fillcolor=\"green\") \n",
    "                  \n",
    "                  G.add_node(node)\n",
    "                  edge = pydot.Edge(lstr(s),lstr(d))\n",
    "                  G.add_edge(edge)\n",
    "                  graph[lstr(s)].append(lstr(d))\n",
    "                  queue.append(d) \n",
    "                  visited[lstr(d)] = True \n",
    "              \n",
    "              \n",
    "\n",
    "        im = Image(G.create_png())\n",
    "        display(im)"
   ]
  },
  {
   "cell_type": "code",
   "execution_count": 6,
   "metadata": {
    "colab": {
     "base_uri": "https://localhost:8080/",
     "height": 268
    },
    "id": "IKZmji2EDMzZ",
    "outputId": "d952d743-e78e-4813-afcd-43671c04b7c2"
   },
   "outputs": [
    {
     "data": {
      "image/png": "[encoded data removed]",
      "text/plain": [
       "<IPython.core.display.Image object>"
      ]
     },
     "metadata": {
      "tags": []
     },
     "output_type": "display_data"
    }
   ],
   "source": [
    "p = [1,3,2]\n",
    "\n",
    "ModifiedBFSPreSols_2(p)\n"
   ]
  }
 ],
 "metadata": {
  "colab": {
   "collapsed_sections": [],
   "name": "Pancakes.ipynb",
   "provenance": []
  },
  "kernelspec": {
   "display_name": "Python 3",
   "language": "python",
   "name": "python3"
  },
  "language_info": {
   "codemirror_mode": {
    "name": "ipython",
    "version": 3
   },
   "file_extension": ".py",
   "mimetype": "text/x-python",
   "name": "python",
   "nbconvert_exporter": "python",
   "pygments_lexer": "ipython3",
   "version": "3.7.4"
  }
 },
 "nbformat": 4,
 "nbformat_minor": 1
}
