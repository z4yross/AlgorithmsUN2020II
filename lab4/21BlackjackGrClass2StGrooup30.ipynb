{
  "nbformat": 4,
  "nbformat_minor": 0,
  "metadata": {
    "colab": {
      "name": " 21BlackjackGrClass2StGrooup30.ipynb",
      "provenance": []
    },
    "kernelspec": {
      "name": "python3",
      "display_name": "Python 3"
    }
  },
  "cells": [
    {
      "cell_type": "code",
      "metadata": {
        "id": "UBLKwnE4IVRg",
        "colab_type": "code",
        "colab": {}
      },
      "source": [
        "#librerias\n",
        "\n",
        "import random as r\n",
        "import math as mt\n",
        "import numpy as np\n",
        "import matplotlib.pyplot as plt\n",
        "import scipy.stats as st"
      ],
      "execution_count": 9,
      "outputs": []
    },
    {
      "cell_type": "markdown",
      "metadata": {
        "id": "HbQVdMWwQuaZ",
        "colab_type": "text"
      },
      "source": [
        "# Punto 1"
      ]
    },
    {
      "cell_type": "code",
      "metadata": {
        "id": "vYu824vGQbUp",
        "colab_type": "code",
        "colab": {
          "base_uri": "https://localhost:8080/",
          "height": 85
        },
        "outputId": "c4d741d7-2185-42d4-fc80-733caebf7a72"
      },
      "source": [
        "#baraja española\n",
        "\n",
        "spanish_deck_48 = [1,2,3,4,5,6,7,10,11,12,1,2,3,4,5,6,7,8,9,10,11,12,1,2,3,4,5,6,7,8,9,10,11,12,1,2,3,4,5,6,7,8,9,10,11,12]\n",
        "\n",
        "#baraja espanola modificada 1\n",
        "spanish_deck_40_1 = [1,2,3,4,5,6,7,8,9,10,10,10,1,2,3,4,5,6,7,8,9,10,10,10,1,2,3,4,5,6,7,8,9,10,10,10,1,2,3,4,5,6,7,8,9,10,10,10]\n",
        "\n",
        "#baraja espanola modificada 2\n",
        "spanish_deck_40_2 = [1,2,3,4,5,6,7,8,9,10,10,10,10,1,2,3,4,5,6,7,8,9,10,10,10,10,1,2,3,4,5,6,7,8,9,10,10,10,10,1,2,3,4,5,6,7,8,9,10,10,10,10]\n",
        "\n",
        "#baraja poker\n",
        "poker_deck_52 = [1,2,3,4,5,6,7,8,9,10,11,12,13,1,2,3,4,5,6,7,8,9,10,11,12,13,1,2,3,4,5,6,7,8,9,10,11,12,13,1,2,3,4,5,6,7,8,9,10,11,12,13]\n",
        "\n",
        "\n",
        "#calcular la probabilidad de hacer 21 en n intentos con la baraja \"cartas\", si prnt es verdadero, imprime el resultado con el nombre \"name\". De lo contrario retorna la probabilidad\n",
        "def prob_21(cartas, n, name, prnt):\n",
        "    prb = 0\n",
        "    j = 0\n",
        "\n",
        "    for i in range(n):\n",
        "        sum = 0 \n",
        "        brj  = cartas.copy()\n",
        "        while sum < 21:\n",
        "            num = r.choice(brj)\n",
        "            sum += num\n",
        "            brj.remove(num)\n",
        "            j += 1\n",
        "\n",
        "        prb += 1 if sum == 21 else 0\n",
        "        \n",
        "    if prnt: \n",
        "      print(name, \":\", prb, \"de\", n, \"=\", prb / n)\n",
        "    else:\n",
        "      return prb / n\n",
        "\n",
        "\n",
        "prob_21(spanish_deck_48, 100000, \"spanish_deck_48  \", True)\n",
        "prob_21(spanish_deck_40_1, 100000, \"spanish_deck_40_1\", True)\n",
        "prob_21(spanish_deck_40_2, 100000, \"spanish_deck_40_2\", True)\n",
        "prob_21(poker_deck_52, 100000, \"poker_deck_52    \", True)"
      ],
      "execution_count": 10,
      "outputs": [
        {
          "output_type": "stream",
          "text": [
            "spanish_deck_48   : 15974 de 100000 = 0.15974\n",
            "spanish_deck_40_1 : 14977 de 100000 = 0.14977\n",
            "spanish_deck_40_2 : 14125 de 100000 = 0.14125\n",
            "poker_deck_52     : 14470 de 100000 = 0.1447\n"
          ],
          "name": "stdout"
        }
      ]
    },
    {
      "cell_type": "markdown",
      "metadata": {
        "id": "Xi0bxktGQzsk",
        "colab_type": "text"
      },
      "source": [
        "# Punto 2"
      ]
    },
    {
      "cell_type": "code",
      "metadata": {
        "id": "W05n-iMAQ7t8",
        "colab_type": "code",
        "colab": {}
      },
      "source": [
        "#calcular la probabilidad de hacer 21 en n intentos con la baraja \"cartas\", y las cartas \"act\", en la mano\n",
        "def prob_21_s(cartas, n, act):\n",
        "    prb = 0\n",
        "    j = 0\n",
        "\n",
        "    n_cartas = []\n",
        "\n",
        "    for i in range(n):\n",
        "        sum = 0 if len(act) == 0 else np.sum(act)\n",
        "        nums = []\n",
        "        brj  = cartas.copy()\n",
        "        while sum < 21:\n",
        "            num = brj[r.randint(0, len(brj) - 1)]\n",
        "            sum += num\n",
        "            nums.append(num)\n",
        "            brj.remove(num)\n",
        "            j += 1\n",
        "\n",
        "        if sum == 21:\n",
        "            prb += 1\n",
        "            n_cartas.append(len(nums))\n",
        "        \n",
        "    return [prb, n_cartas]\n",
        "\n",
        "prb_21_spanish_48 = prob_21_s(spanish_deck_48, 10000, [])\n",
        "prb_21_spanish_40_1 = prob_21_s(spanish_deck_40_1, 10000, [])\n",
        "prb_21_spanish_40_2 = prob_21_s(spanish_deck_40_2, 10000, [])\n",
        "prb_21_poker = prob_21_s(poker_deck_52, 10000, [])"
      ],
      "execution_count": 11,
      "outputs": []
    },
    {
      "cell_type": "code",
      "metadata": {
        "id": "d0yBCO4dQd_X",
        "colab_type": "code",
        "colab": {
          "base_uri": "https://localhost:8080/",
          "height": 1000
        },
        "outputId": "895ff6a9-37cd-4be7-e9bf-0f9e5ca3bc20"
      },
      "source": [
        "x_s_48 = np.asarray(prb_21_spanish_48[1])\n",
        "x_s_40_1 = np.asarray(prb_21_spanish_40_1[1])\n",
        "x_s_40_2 = np.asarray(prb_21_spanish_40_2[1])\n",
        "x_p_52 = np.asarray(prb_21_poker[1])\n",
        "\n",
        "\n",
        "#histograma baraja española\n",
        "bin1= np.arange(x_s_48.min(), x_s_48.max() + 1.5) - 0.5\n",
        "\n",
        "f1 = plt.figure()\n",
        "\n",
        "ax1 = f1.add_subplot(111)\n",
        "ax1.hist(x_s_48, bins = bin1)\n",
        "ax1.set_xticks(bin1+ 0.5)\n",
        "ax1.set_title('x_s_48')\n",
        "\n",
        "#histograma baraja española modificada 1\n",
        "bin2= np.arange(x_s_40_1.min(), x_s_40_1.max() + 1.5) - 0.5\n",
        "\n",
        "f2 = plt.figure()\n",
        "\n",
        "ax2 = f2.add_subplot(111)\n",
        "ax2.hist(x_s_40_1, bins = bin2)\n",
        "ax2.set_xticks(bin2+ 0.5)\n",
        "ax2.set_title('x_s_40_1')\n",
        "\n",
        "#histograma baraja española modificada 2\n",
        "bin3 = np.arange(x_s_40_2.min(), x_s_40_2.max() + 1.5) - 0.5\n",
        "\n",
        "f3 = plt.figure()\n",
        "\n",
        "ax3 = f3.add_subplot(111)\n",
        "ax3.hist(x_s_40_2, bins = bin3)\n",
        "ax3.set_xticks(bin3+ 0.5)\n",
        "ax3.set_title('x_s_40_2')\n",
        "\n",
        "#histograma baraja poker\n",
        "bin4 = np.arange(x_p_52.min(), x_p_52.max() + 1.5) - 0.5\n",
        "\n",
        "f4 = plt.figure()\n",
        "\n",
        "ax4 = f4.add_subplot(111)\n",
        "ax4.hist(x_p_52, bins = bin4)\n",
        "ax4.set_xticks(bin4+ 0.5)\n",
        "ax4.set_title('x_p_52')"
      ],
      "execution_count": 12,
      "outputs": [
        {
          "output_type": "execute_result",
          "data": {
            "text/plain": [
              "Text(0.5, 1.0, 'x_p_52')"
            ]
          },
          "metadata": {
            "tags": []
          },
          "execution_count": 12
        },
        {
          "output_type": "display_data",
          "data": {
            "image/png": "[encoded data removed]",
            "text/plain": [
              "<Figure size 432x288 with 1 Axes>"
            ]
          },
          "metadata": {
            "tags": [],
            "needs_background": "light"
          }
        },
        {
          "output_type": "display_data",
          "data": {
            "image/png": "[encoded data removed]",
            "text/plain": [
              "<Figure size 432x288 with 1 Axes>"
            ]
          },
          "metadata": {
            "tags": [],
            "needs_background": "light"
          }
        },
        {
          "output_type": "display_data",
          "data": {
            "image/png": "[encoded data removed]",
            "text/plain": [
              "<Figure size 432x288 with 1 Axes>"
            ]
          },
          "metadata": {
            "tags": [],
            "needs_background": "light"
          }
        },
        {
          "output_type": "display_data",
          "data": {
            "image/png": "[encoded data removed]",
            "text/plain": [
              "<Figure size 432x288 with 1 Axes>"
            ]
          },
          "metadata": {
            "tags": [],
            "needs_background": "light"
          }
        }
      ]
    },
    {
      "cell_type": "markdown",
      "metadata": {
        "id": "0EBaObkXRA5W",
        "colab_type": "text"
      },
      "source": [
        "# Punto 3"
      ]
    },
    {
      "cell_type": "code",
      "metadata": {
        "id": "GFbIhZjhQfpQ",
        "colab_type": "code",
        "colab": {
          "base_uri": "https://localhost:8080/",
          "height": 51
        },
        "outputId": "41681c40-aac4-4b24-ecc1-5054df2d417b"
      },
      "source": [
        "#histograma baraja española 48 modificada, sin [7,7,5]\n",
        "spanish_deck_48_m = [1,2,3,4,5,6,10,11,12,1,2,3,4,5,6,8,9,10,11,12,1,2,3,4,6,7,8,9,10,11,12,1,2,3,4,5,6,7,8,9,10,11,12]\n",
        "\n",
        "#histograma baraja poker modificada sin [7,7,5]\n",
        "poker_deck_52_m = [1,2,3,4,5,6,7,8,9,10,11,12,13,1,2,3,4,5,6,8,9,10,11,12,13,1,2,3,4,5,6,8,9,10,11,12,13,1,2,3,4,6,7,8,9,10,11,12,13]\n",
        "\n",
        "#elige la mitad de la baraja \"deck\", y calcula la probabilidad de obtener 21 en n intentos con \"act\" en la mano. Imprime los resultados con el nombre \"name\"\n",
        "def half_deck_sum(name, deck, act, n):\n",
        "    prb = 0\n",
        "    j = 0\n",
        "\n",
        "    n_cartas = []\n",
        "\n",
        "    for i in range(n):\n",
        "        x = (len(deck) + 3) // 2\n",
        "        nums = []\n",
        "        sum = np.sum(act)\n",
        "\n",
        "        h_deck = []\n",
        "\n",
        "        for k in range(x):\n",
        "            h_deck.append(deck[r.randint(0, len(deck) - 1)])\n",
        "\n",
        "        while sum < 21:\n",
        "            num = h_deck[r.randint(0, len(h_deck) - 1)]\n",
        "            sum += num\n",
        "            nums.append(num)\n",
        "            h_deck.remove(num)\n",
        "            j += 1\n",
        "\n",
        "        if sum == 21:\n",
        "            prb += 1\n",
        "            n_cartas.append(len(nums))\n",
        "\n",
        "    print(name, \":\", prb, \"de\", n, \"=\", prb / n)\n",
        "    return [prb, n_cartas]\n",
        "\n",
        "\n",
        "prb_21_spanish_48_m = half_deck_sum(\"spanish_deck_48_m\", spanish_deck_48_m, [7,7,5], 10000)\n",
        "prb_21_poker_52_m = half_deck_sum(\"poker_deck_52_m  \", poker_deck_52_m, [7,7,5], 10000)"
      ],
      "execution_count": 13,
      "outputs": [
        {
          "output_type": "stream",
          "text": [
            "spanish_deck_48_m : 1041 de 10000 = 0.1041\n",
            "poker_deck_52_m   : 873 de 10000 = 0.0873\n"
          ],
          "name": "stdout"
        }
      ]
    },
    {
      "cell_type": "code",
      "metadata": {
        "id": "D-MQwvg2QhJP",
        "colab_type": "code",
        "colab": {
          "base_uri": "https://localhost:8080/",
          "height": 562
        },
        "outputId": "696a7f48-1a72-4fce-e587-03910a544e8e"
      },
      "source": [
        "x_s_48_m = np.asarray(prb_21_spanish_48_m[1])\n",
        "x_p_52_m = np.asarray(prb_21_poker_52_m[1])\n",
        "\n",
        "#historgrama baraja española modificada\n",
        "bin5 = np.arange(x_s_48_m.min(), x_s_48_m.max() + 1.5) - 0.5\n",
        "\n",
        "f5 = plt.figure()\n",
        "\n",
        "ax5 = f5.add_subplot(111)\n",
        "ax5.hist(x_s_48_m, bins = bin5)\n",
        "ax5.set_xticks(bin5 + 0.5)\n",
        "ax5.set_title('x_s_48_m')\n",
        "\n",
        "#historgrama baraja poker modificada\n",
        "bin6 = np.arange(x_p_52_m.min(), x_p_52_m.max() + 1.5) - 0.5\n",
        "\n",
        "f6 = plt.figure()\n",
        "\n",
        "ax6 = f6.add_subplot(111)\n",
        "ax6.hist(x_p_52_m, bins = bin6)\n",
        "ax6.set_xticks(bin6 + 0.5)\n",
        "ax6.set_title('x_p_52_m')"
      ],
      "execution_count": 14,
      "outputs": [
        {
          "output_type": "execute_result",
          "data": {
            "text/plain": [
              "Text(0.5, 1.0, 'x_p_52_m')"
            ]
          },
          "metadata": {
            "tags": []
          },
          "execution_count": 14
        },
        {
          "output_type": "display_data",
          "data": {
            "image/png": "[encoded data removed]",
            "text/plain": [
              "<Figure size 432x288 with 1 Axes>"
            ]
          },
          "metadata": {
            "tags": [],
            "needs_background": "light"
          }
        },
        {
          "output_type": "display_data",
          "data": {
            "image/png": "[encoded data removed]",
            "text/plain": [
              "<Figure size 432x288 with 1 Axes>"
            ]
          },
          "metadata": {
            "tags": [],
            "needs_background": "light"
          }
        }
      ]
    },
    {
      "cell_type": "markdown",
      "metadata": {
        "id": "oCX_l6qN2IDm",
        "colab_type": "text"
      },
      "source": [
        "# Punto 4"
      ]
    },
    {
      "cell_type": "code",
      "metadata": {
        "id": "n_MUc83Q2KUO",
        "colab_type": "code",
        "colab": {
          "base_uri": "https://localhost:8080/",
          "height": 51
        },
        "outputId": "8e5b907b-44a7-46a6-a0fb-0f09bbbc8d05"
      },
      "source": [
        "#cartas en la mano\n",
        "current = [7,7,5]\n",
        "\n",
        "#mejor baraja posible de 8 cartas\n",
        "hotdeck = [1,2,1,2,1,2,1,2]\n",
        "\n",
        "#la peor baraja, es cualquier baraja que no contenga 1 o 2\n",
        "coldeck = list(np.random.randint(3, max(poker_deck_52) + 1, size = 8))\n",
        "\n",
        "#numero de intentos\n",
        "n = 100000\n",
        "\n",
        "prb_hd = prob_21_s(hotdeck, n, current)\n",
        "prb_cd = prob_21_s(coldeck, n, current)\n",
        "\n",
        "print(\"hotdeck probability:\", prb_hd[0] / n)\n",
        "print(\"colddeck probability:\", prb_cd[0] / n)"
      ],
      "execution_count": 15,
      "outputs": [
        {
          "output_type": "stream",
          "text": [
            "hotdeck probability: 0.71264\n",
            "colddeck probability: 0.0\n"
          ],
          "name": "stdout"
        }
      ]
    },
    {
      "cell_type": "code",
      "metadata": {
        "id": "ExS79qh9QdES",
        "colab_type": "code",
        "colab": {
          "base_uri": "https://localhost:8080/",
          "height": 562
        },
        "outputId": "46b8f7d6-7803-477d-9c52-6da5d41d26e2"
      },
      "source": [
        "hd = np.asarray(prb_hd[1])\n",
        "cd = np.asarray(prb_cd[1])\n",
        "\n",
        "#histograma mejor baraja\n",
        "bin7 = np.arange(hd.min(), hd.max() + 1.5) - 0.5\n",
        "\n",
        "f7 = plt.figure()\n",
        "\n",
        "ax7 = f7.add_subplot(111)\n",
        "ax7.hist(hd, bins = bin7)\n",
        "ax7.set_xticks(bin7 + 0.5)\n",
        "ax7.set_title('hotdeck')\n",
        "\n",
        "#histograma peor baraja\n",
        "#bins8 = np.arange(cd.min(), cd.max() + 1.5) - 0.5\n",
        "\n",
        "f8 = plt.figure()\n",
        "\n",
        "ax8 = f8.add_subplot(111)\n",
        "ax8.hist(cd)\n",
        "# ax8.set_xticks(bins + 0.5)\n",
        "ax8.set_title('coldeck')"
      ],
      "execution_count": 16,
      "outputs": [
        {
          "output_type": "execute_result",
          "data": {
            "text/plain": [
              "Text(0.5, 1.0, 'coldeck')"
            ]
          },
          "metadata": {
            "tags": []
          },
          "execution_count": 16
        },
        {
          "output_type": "display_data",
          "data": {
            "image/png": "[encoded data removed]",
            "text/plain": [
              "<Figure size 432x288 with 1 Axes>"
            ]
          },
          "metadata": {
            "tags": [],
            "needs_background": "light"
          }
        },
        {
          "output_type": "display_data",
          "data": {
            "image/png": "[encoded data removed]",
            "text/plain": [
              "<Figure size 432x288 with 1 Axes>"
            ]
          },
          "metadata": {
            "tags": [],
            "needs_background": "light"
          }
        }
      ]
    }
  ]
}